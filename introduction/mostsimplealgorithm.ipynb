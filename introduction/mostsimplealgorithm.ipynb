{
 "cells": [
  {
   "cell_type": "code",
   "execution_count": 3,
   "metadata": {
    "collapsed": false
   },
   "outputs": [
    {
     "data": {
      "text/plain": [
       "(263,10)"
      ]
     },
     "execution_count": 3,
     "metadata": {},
     "output_type": "execute_result"
    }
   ],
   "source": [
    "# load csv file\n",
    "data = readdlm(\"../data/breast-cancer.csv\", ',');\n",
    "# get number of entries and dimension\n",
    "(m,n) = size(data)"
   ]
  },
  {
   "cell_type": "code",
   "execution_count": 12,
   "metadata": {
    "collapsed": false
   },
   "outputs": [
    {
     "data": {
      "text/plain": [
       "132x9 Array{Float64,2}:\n",
       "  0.0229856    0.0118557  -0.27123   …  -1.09836   0.190731   -0.0299897\n",
       "  0.0144747   -0.0352234   0.20364      -1.09836  -0.297683   -0.0299897\n",
       "  0.0144747    0.0118557   0.559792     -1.09836   0.679144   -0.0299897\n",
       "  0.0144747    0.0118557   0.559792     -1.09836   0.679144   -0.0299897\n",
       "  0.0144747    0.0118557   0.441074      1.14754   0.434938   -0.0299897\n",
       "  0.0144747    0.0118557   0.322357  …  -1.09836  -0.0534759  -0.0299897\n",
       "  0.0144747    0.0118557   0.322357      1.14754   0.434938   -0.0299897\n",
       "  0.0144747    0.0118557   0.20364       1.14754  -0.0534759  -0.0299897\n",
       "  0.0144747    0.0118557   0.20364      -1.09836  -0.0534759  -0.0299897\n",
       "  0.0144747    0.0118557   0.20364       1.14754  -0.0534759   0.111686 \n",
       "  0.0144747    0.0118557   0.084922  …   1.14754   0.434938   -0.0299897\n",
       "  0.0144747    0.0118557   0.084922      1.14754  -0.297683    0.111686 \n",
       "  0.0144747    0.0118557   0.084922      1.14754   0.679144   -0.0299897\n",
       "  ⋮                                  ⋱                                  \n",
       "  0.00596384   0.0118557  -0.627383  …  -1.09836  -0.0534759   0.111686 \n",
       " -0.00254706  -0.0352234   0.20364       1.14754  -0.0534759  -0.0299897\n",
       " -0.00254706  -0.0352234  -0.152513     -1.09836  -0.297683   -0.0299897\n",
       " -0.00254706  -0.0116838   0.559792      1.14754  -0.0534759  -0.0299897\n",
       " -0.00254706  -0.0116838   0.559792     -1.09836   0.679144   -0.0299897\n",
       " -0.00254706  -0.0116838   0.559792  …   1.14754   0.679144   -0.0299897\n",
       " -0.00254706  -0.0116838   0.441074     -1.09836   0.190731   -0.0299897\n",
       " -0.00254706  -0.0116838   0.322357      1.14754  -0.297683   -0.0299897\n",
       " -0.00254706  -0.0116838   0.322357      1.14754  -0.0534759  -0.0299897\n",
       " -0.00254706  -0.0116838   0.322357     -1.09836  -0.297683   -0.0299897\n",
       " -0.00254706  -0.0116838   0.322357  …   1.14754  -0.0534759  -0.0299897\n",
       " -0.00254706  -0.0116838   0.322357     -1.09836  -0.0534759  -0.0299897"
      ]
     },
     "execution_count": 12,
     "metadata": {},
     "output_type": "execute_result"
    }
   ],
   "source": [
    "# split dataset\n",
    "pos = int(m/2)\n",
    "# get training data\n",
    "y = data[1:int(m/2),1]; \n",
    "x = data[1:int(m/2),2:end];\n",
    "# normalize training data\n",
    "no = sum(x,1)\n",
    "x = x./no;\n",
    "# get and normalize test data\n",
    "y_test = data[int(m/2):end,1];\n",
    "x_test = data[int(m/2):end,2:end];\n",
    "x_test = x_test./no;\n",
    "x"
   ]
  },
  {
   "cell_type": "code",
   "execution_count": 10,
   "metadata": {
    "collapsed": true
   },
   "outputs": [],
   "source": [
    "# get centroids\n",
    "μ0 = mean(x[y.==-1,:],1)\n",
    "μ1 = mean(x[y.==1,:],1)\n",
    "# calculate distance to each test entry\n",
    "Δμ0 = broadcast(-, μ0, x_test)\n",
    "Δμ0 = sum(Δμ0.^2,2);\n",
    "Δμ1 = broadcast(-, μ1, x_test)\n",
    "Δμ1 = sum(Δμ1.^2,2);"
   ]
  },
  {
   "cell_type": "code",
   "execution_count": 11,
   "metadata": {
    "collapsed": false
   },
   "outputs": [
    {
     "data": {
      "text/plain": [
       "53.03030303030303"
      ]
     },
     "execution_count": 11,
     "metadata": {},
     "output_type": "execute_result"
    }
   ],
   "source": [
    "# transform prediction in to its label {-1,+1}\n",
    "y_pred=int((Δμ₀.<Δμ₁))*2-1;\n",
    "# check overall performance\n",
    "accuracy = 100/size(y_pred,1)*sum(int(y_pred.==y_test))"
   ]
  }
 ],
 "metadata": {
  "kernelspec": {
   "display_name": "Julia 0.3.12-pre",
   "language": "julia",
   "name": "julia-0.3"
  },
  "language_info": {
   "name": "julia",
   "version": "0.3.12"
  }
 },
 "nbformat": 4,
 "nbformat_minor": 0
}
