{
 "cells": [
  {
   "cell_type": "code",
   "execution_count": 3,
   "metadata": {
    "collapsed": false
   },
   "outputs": [],
   "source": [
    "# load data\n",
    "data=[ 1.17   78.93\n",
    "       2.97   58.20\n",
    "       3.26   67.47\n",
    "       4.69   37.47\n",
    "       5.83   45.65\n",
    "       6.00   32.92\n",
    "       6.41   29.97]\n",
    "# augmenting data with constant\n",
    "x    = [ones(7) data[:,1]];\n",
    "# extract scores\n",
    "y    = data[:,2];"
   ]
  },
  {
   "cell_type": "code",
   "execution_count": 6,
   "metadata": {
    "collapsed": false
   },
   "outputs": [
    {
     "data": {
      "text/plain": [
       "2-element Array{Float64,1}:\n",
       " 81.0526\n",
       " -7.4139"
      ]
     },
     "execution_count": 6,
     "metadata": {},
     "output_type": "execute_result"
    }
   ],
   "source": [
    "lambda = 0.1\n",
    "beta = inv(x'*x+lambda*diagm(ones(size(x,2))))*x'*y"
   ]
  },
  {
   "cell_type": "code",
   "execution_count": 7,
   "metadata": {
    "collapsed": false
   },
   "outputs": [
    {
     "data": {
      "text/plain": [
       "7x3 Array{Float64,2}:\n",
       " 78.93  72.3783   6.55165 \n",
       " 58.2   59.0333  -0.833331\n",
       " 67.47  56.8833  10.5867  \n",
       " 37.47  46.2814  -8.81143 \n",
       " 45.65  37.8296   7.82041 \n",
       " 32.92  36.5692  -3.64922 \n",
       " 29.97  33.5295  -3.55952 "
      ]
     },
     "execution_count": 7,
     "metadata": {},
     "output_type": "execute_result"
    }
   ],
   "source": [
    "# let's compare ground-truth vs. prediction [true score, prediction, difference]\n",
    "[y x*beta y-x*beta]"
   ]
  }
 ],
 "metadata": {
  "kernelspec": {
   "display_name": "Julia 0.3.12-pre",
   "language": "julia",
   "name": "julia-0.3"
  },
  "language_info": {
   "name": "julia",
   "version": "0.3.12"
  }
 },
 "nbformat": 4,
 "nbformat_minor": 0
}
