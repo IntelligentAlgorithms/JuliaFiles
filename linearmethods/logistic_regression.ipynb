{
 "cells": [
  {
   "cell_type": "code",
   "execution_count": 6,
   "metadata": {
    "collapsed": false
   },
   "outputs": [
    {
     "data": {
      "text/plain": [
       "(263,10)"
      ]
     },
     "execution_count": 6,
     "metadata": {},
     "output_type": "execute_result"
    }
   ],
   "source": [
    "# read data from csv file\n",
    "data = readdlm(\"../data/breast-cancer.csv\", ',');\n",
    "# get shape of data \n",
    "(m,d) = size(data)"
   ]
  },
  {
   "cell_type": "code",
   "execution_count": 7,
   "metadata": {
    "collapsed": false
   },
   "outputs": [
    {
     "name": "stdout",
     "output_type": "stream",
     "text": [
      "(132,10)(132,)(132,10)(132,)"
     ]
    }
   ],
   "source": [
    "# first half is training set\n",
    "y = data[1:int(m/2),1];     \n",
    "y[y .== -1] = 0     \n",
    "x = data[1:int(m/2),2:end];\n",
    "no = sum(x,1)\n",
    "# normalize\n",
    "x = x./no;\n",
    "# augment by one dimension\n",
    "x = [ones(int(m/2),1) x]\n",
    "\n",
    "\n",
    "(_,d) = size(x)\n",
    "\n",
    "# second half is test set\n",
    "y_test = data[int(m/2):end,1];\n",
    "y_test[y_test .== -1] = 0\n",
    "x_test = data[int(m/2):end,2:end];\n",
    "# normalize\n",
    "x_test = x_test./no;\n",
    "# augment by one dimension\n",
    "x_test = [ones(size(x_test,1),1) x_test];\n",
    "\n",
    "print(size(x))\n",
    "print(size(y))\n",
    "print(size(x_test))\n",
    "print(size(y_test))"
   ]
  },
  {
   "cell_type": "code",
   "execution_count": 8,
   "metadata": {
    "collapsed": false
   },
   "outputs": [],
   "source": [
    "β = zeros(d,1)  # initial guess\n",
    "η = 0.03        # learning rate\n",
    "maxIter = 10000;\n",
    "\n",
    "for k=1:maxIter\n",
    "    β = β + η*sum((y-1.0./(1.0+exp(-x*β))) .* x,1)';\n",
    "end"
   ]
  },
  {
   "cell_type": "code",
   "execution_count": 10,
   "metadata": {
    "collapsed": false
   },
   "outputs": [
    {
     "name": "stdout",
     "output_type": "stream",
     "text": [
      "in sample accuracy     75.0\n",
      "out of sample accuracy 70.45454545454545\n"
     ]
    }
   ],
   "source": [
    "# in sample error\n",
    "prediction = 1.0./(1.0+exp(-x*β))\n",
    "print(\"in sample accuracy     \",100/132.0*sum(int(int(prediction .> 0.5).==y)),\"\\n\")\n",
    "\n",
    "# out of sample error\n",
    "prediction = 1.0./(1.0+exp(-x_test*β))\n",
    "print(\"out of sample accuracy \",100/132.0*sum(int(int(prediction .> 0.5).==y_test)),\"\\n\")"
   ]
  }
 ],
 "metadata": {
  "kernelspec": {
   "display_name": "Julia 0.3.12-pre",
   "language": "julia",
   "name": "julia-0.3"
  },
  "language": "Julia",
  "language_info": {
   "name": "julia",
   "version": "0.3.12"
  }
 },
 "nbformat": 4,
 "nbformat_minor": 0
}
