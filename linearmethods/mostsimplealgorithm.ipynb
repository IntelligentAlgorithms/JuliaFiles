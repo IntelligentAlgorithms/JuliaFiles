{
 "cells": [
  {
   "cell_type": "code",
   "execution_count": 3,
   "metadata": {
    "collapsed": false
   },
   "outputs": [
    {
     "data": {
      "text/plain": [
       "(263,10)"
      ]
     },
     "execution_count": 3,
     "metadata": {},
     "output_type": "execute_result"
    }
   ],
   "source": [
    "# load csv file\n",
    "data = readdlm(\"../data/breast-cancer.csv\", ',');\n",
    "# get number of entries and dimension\n",
    "(m,n) = size(data)"
   ]
  },
  {
   "cell_type": "code",
   "execution_count": 4,
   "metadata": {
    "collapsed": true
   },
   "outputs": [],
   "source": [
    "# split dataset\n",
    "pos = int(m/2)\n",
    "# get training data\n",
    "y = data[1:int(m/2),1]; \n",
    "x = data[1:int(m/2),2:end];\n",
    "# normalize training data\n",
    "no = sum(x,1)\n",
    "x = x./no;\n",
    "# get and normalize test data\n",
    "y_test = data[int(m/2):end,1];\n",
    "x_test = data[int(m/2):end,2:end];\n",
    "x_test = x_test./no;"
   ]
  },
  {
   "cell_type": "code",
   "execution_count": 6,
   "metadata": {
    "collapsed": true
   },
   "outputs": [],
   "source": [
    "# get centroids\n",
    "μ0 = mean(x[y.==-1,:],1)\n",
    "μ1 = mean(x[y.==1,:],1)\n",
    "# calculate distance to each test entry\n",
    "Δμ0 = repmat(μ0,m-pos+1,1)-x_test;\n",
    "Δμ0 = sum(Δμ0.^2,2);\n",
    "Δμ1 = repmat(μ1,m-pos+1,1)-x_test;\n",
    "Δμ1 = sum(Δμ1.^2,2);"
   ]
  },
  {
   "cell_type": "code",
   "execution_count": 7,
   "metadata": {
    "collapsed": false
   },
   "outputs": [
    {
     "data": {
      "text/plain": [
       "53.03030303030303"
      ]
     },
     "execution_count": 7,
     "metadata": {},
     "output_type": "execute_result"
    }
   ],
   "source": [
    "# transform prediction in to its label {-1,+1}\n",
    "y_pred=int((Δμ₀.<Δμ₁))*2-1;\n",
    "# check overall performance\n",
    "accuracy = 100/size(y_pred,1)*sum(int(y_pred.==y_test))"
   ]
  },
  {
   "cell_type": "code",
   "execution_count": 8,
   "metadata": {
    "collapsed": false
   },
   "outputs": [
    {
     "data": {
      "text/plain": [
       "132x9 Array{Float64,2}:\n",
       " -0.00254706  -0.0116838   0.322357  …  -1.09836  -0.0534759  -0.0299897\n",
       " -0.00254706  -0.0116838   0.20364       1.14754   0.679144    0.111686 \n",
       " -0.00254706  -0.0116838   0.20364      -1.09836   0.679144   -0.0299897\n",
       " -0.00254706  -0.0116838   0.20364      -1.09836  -0.0534759  -0.0299897\n",
       " -0.00254706  -0.0116838   0.20364      -1.09836   0.190731   -0.0299897\n",
       " -0.00254706  -0.0116838   0.084922  …  -1.09836  -0.297683   -0.0299897\n",
       " -0.00254706  -0.0116838   0.084922     -1.09836  -0.0534759  -0.0299897\n",
       " -0.00254706  -0.0116838   0.084922      1.14754  -0.297683   -0.0299897\n",
       " -0.00254706  -0.0116838   0.084922     -1.09836  -0.297683   -0.0299897\n",
       " -0.00254706  -0.0116838   0.084922     -1.09836   0.679144   -0.0299897\n",
       " -0.00254706  -0.0116838   0.084922  …   1.14754  -0.297683   -0.0299897\n",
       " -0.00254706  -0.0116838   0.084922     -1.09836  -0.297683   -0.0299897\n",
       " -0.00254706  -0.0116838   0.084922     -1.09836  -0.297683   -0.0299897\n",
       "  ⋮                                  ⋱                                  \n",
       " -0.011058    -0.0116838  -0.389948  …  -1.09836  -0.0534759  -0.0299897\n",
       " -0.011058    -0.0116838  -0.389948     -1.09836  -0.297683    0.111686 \n",
       " -0.011058    -0.0116838  -0.508665     -1.09836   0.190731    0.111686 \n",
       " -0.011058    -0.0116838  -0.508665      1.14754   0.679144   -0.0299897\n",
       " -0.011058    -0.0116838  -0.627383      1.14754  -0.0534759  -0.0299897\n",
       " -0.011058    -0.0116838  -0.627383  …  -1.09836  -0.297683    0.111686 \n",
       " -0.011058    -0.0116838  -0.627383     -1.09836  -0.297683   -0.0299897\n",
       " -0.0195689   -0.0116838   0.559792      1.14754   0.434938   -0.0299897\n",
       " -0.0195689   -0.0116838   0.322357      1.14754   0.679144   -0.0299897\n",
       " -0.0195689   -0.0116838   0.084922      1.14754  -0.297683   -0.0299897\n",
       " -0.0195689   -0.0116838  -0.389948  …  -1.09836  -0.297683   -0.0299897\n",
       " -0.0195689   -0.0116838  -0.389948     -1.09836   0.190731   -0.0299897"
      ]
     },
     "execution_count": 8,
     "metadata": {},
     "output_type": "execute_result"
    }
   ],
   "source": [
    "broadcast(+, a, A)"
   ]
  },
  {
   "cell_type": "code",
   "execution_count": null,
   "metadata": {
    "collapsed": true
   },
   "outputs": [],
   "source": []
  }
 ],
 "metadata": {
  "kernelspec": {
   "display_name": "Julia 0.3.12-pre",
   "language": "julia",
   "name": "julia-0.3"
  },
  "language_info": {
   "name": "julia",
   "version": "0.3.12"
  }
 },
 "nbformat": 4,
 "nbformat_minor": 0
}
