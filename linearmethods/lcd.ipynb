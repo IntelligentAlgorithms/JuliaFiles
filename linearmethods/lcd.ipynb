{
 "cells": [
  {
   "cell_type": "code",
   "execution_count": 9,
   "metadata": {
    "collapsed": false
   },
   "outputs": [],
   "source": [
    "# load data\n",
    "data=[ 1.17   78.93\n",
    "       2.97   58.20\n",
    "       3.26   67.47\n",
    "       4.69   37.47\n",
    "       5.83   45.65\n",
    "       6.00   32.92\n",
    "       6.41   29.97]\n",
    "# augmenting data with constant\n",
    "x    = [ones(7) data[:,1]];\n",
    "# extract scores\n",
    "y    = data[:,2];"
   ]
  },
  {
   "cell_type": "code",
   "execution_count": 8,
   "metadata": {
    "collapsed": false
   },
   "outputs": [
    {
     "data": {
      "text/plain": [
       "2-element Array{Float64,1}:\n",
       " 89.1239 \n",
       " -9.00947"
      ]
     },
     "execution_count": 8,
     "metadata": {},
     "output_type": "execute_result"
    }
   ],
   "source": [
    "beta = inv(x'*x)*x'*y"
   ]
  },
  {
   "cell_type": "code",
   "execution_count": 17,
   "metadata": {
    "collapsed": false
   },
   "outputs": [
    {
     "data": {
      "text/plain": [
       "7x3 Array{Float64,2}:\n",
       " 78.93  78.5828   0.347202\n",
       " 58.2   62.3658  -4.16576 \n",
       " 67.47  59.753    7.71699 \n",
       " 37.47  46.8695  -9.39948 \n",
       " 45.65  36.5987   9.05132 \n",
       " 32.92  35.0671  -2.14708 \n",
       " 29.97  31.3732  -1.40319 "
      ]
     },
     "execution_count": 17,
     "metadata": {},
     "output_type": "execute_result"
    }
   ],
   "source": [
    "# let's compare ground-truth vs. prediction [true score, prediction, difference]\n",
    "[y x*beta y-x*beta]"
   ]
  }
 ],
 "metadata": {
  "kernelspec": {
   "display_name": "Julia 0.3.12-pre",
   "language": "julia",
   "name": "julia-0.3"
  },
  "language_info": {
   "name": "julia",
   "version": "0.3.12"
  }
 },
 "nbformat": 4,
 "nbformat_minor": 0
}
