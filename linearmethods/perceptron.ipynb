{
 "cells": [
  {
   "cell_type": "code",
   "execution_count": 91,
   "metadata": {
    "collapsed": false
   },
   "outputs": [],
   "source": [
    "# load csv file\n",
    "data = readdlm(\"../data/breast-cancer.csv\", ',');\n",
    "# get number of entries and dimension\n",
    "(m,n) = size(data)\n",
    "# add constant term in last column\n",
    "data = [data ones(m,1)];"
   ]
  },
  {
   "cell_type": "code",
   "execution_count": 92,
   "metadata": {
    "collapsed": false
   },
   "outputs": [],
   "source": [
    "# split dataset into train and test set\n",
    "pos = int(m/2)\n",
    "# get training data\n",
    "y = data[1:int(m/2),1]; \n",
    "x = data[1:int(m/2),2:end]\n",
    "# normalize training data\n",
    "no = sum(x,1)\n",
    "x = x./no;\n",
    "# get and normalize test data\n",
    "y_test = data[int(m/2):end,1];\n",
    "x_test = data[int(m/2):end,2:end];\n",
    "x_test = x_test./no;"
   ]
  },
  {
   "cell_type": "code",
   "execution_count": 97,
   "metadata": {
    "collapsed": false
   },
   "outputs": [],
   "source": [
    "# init weight\n",
    "β = ones(1,10)*0.1\n",
    "# set learning rat\n",
    "η = 0.1\n",
    "(mm,_) = size(x)\n",
    "for i=1:10000000\n",
    "    # get random training example\n",
    "    j = rand(1:mm)\n",
    "    # miss-classified ?\n",
    "    if sign(β*x[j,:]') != y[j]\n",
    "        # update rule\n",
    "        β = β + η*(y[j]-sign(β*x[j,:]')).*x[j,:]\n",
    "    end\n",
    "end"
   ]
  },
  {
   "cell_type": "code",
   "execution_count": 98,
   "metadata": {
    "collapsed": false
   },
   "outputs": [
    {
     "data": {
      "text/plain": [
       "1x10 Array{Float64,2}:\n",
       " 6.09641  2.58533  0.180807  0.0308483  …  -0.208179  -0.67911  -21.1121"
      ]
     },
     "execution_count": 98,
     "metadata": {},
     "output_type": "execute_result"
    }
   ],
   "source": [
    "# print weight\n",
    "β"
   ]
  },
  {
   "cell_type": "code",
   "execution_count": 99,
   "metadata": {
    "collapsed": false
   },
   "outputs": [
    {
     "name": "stdout",
     "output_type": "stream",
     "text": [
      "in sample accuracy     67.42424242424242\n",
      "out of sample accuracy 71.21212121212122\n"
     ]
    }
   ],
   "source": [
    "# compute out-of-sample error\n",
    "y_pred   = sign(x*β')\n",
    "accuracy = 100/size(y,1)*sum(int(y_pred.==y))\n",
    "print(\"in sample accuracy     \",accuracy,\"\\n\")\n",
    "y_pred   = sign(x_test*β')\n",
    "accuracy = 100/size(y_pred,1)*sum(int(y_pred.==y_test))\n",
    "print(\"out of sample accuracy \",accuracy,\"\\n\")"
   ]
  }
 ],
 "metadata": {
  "kernelspec": {
   "display_name": "Julia 0.3.12-pre",
   "language": "julia",
   "name": "julia-0.3"
  },
  "language_info": {
   "name": "julia",
   "version": "0.3.12"
  }
 },
 "nbformat": 4,
 "nbformat_minor": 0
}
